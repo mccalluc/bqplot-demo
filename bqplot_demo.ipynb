{
 "cells": [
  {
   "cell_type": "code",
   "execution_count": 35,
   "metadata": {},
   "outputs": [],
   "source": [
    "import pandas\n",
    "import bqplot\n",
    "import ipywidgets"
   ]
  },
  {
   "cell_type": "markdown",
   "metadata": {},
   "source": [
    "Download data from the [WHO](http://apps.who.int/flumart/Default?ReportNo=12) and save locally"
   ]
  },
  {
   "cell_type": "code",
   "execution_count": 7,
   "metadata": {},
   "outputs": [],
   "source": [
    "flu = pandas.read_csv('who-flu-us-1997-2018.csv', header=2, index_col=[0,3,4])"
   ]
  },
  {
   "cell_type": "code",
   "execution_count": 12,
   "metadata": {},
   "outputs": [
    {
     "data": {
      "text/html": [
       "<div>\n",
       "<style scoped>\n",
       "    .dataframe tbody tr th:only-of-type {\n",
       "        vertical-align: middle;\n",
       "    }\n",
       "\n",
       "    .dataframe tbody tr th {\n",
       "        vertical-align: top;\n",
       "    }\n",
       "\n",
       "    .dataframe thead th {\n",
       "        text-align: right;\n",
       "    }\n",
       "</style>\n",
       "<table border=\"1\" class=\"dataframe\">\n",
       "  <thead>\n",
       "    <tr style=\"text-align: right;\">\n",
       "      <th></th>\n",
       "      <th></th>\n",
       "      <th></th>\n",
       "      <th>WHOREGION</th>\n",
       "      <th>FLUREGION</th>\n",
       "      <th>SDATE</th>\n",
       "      <th>EDATE</th>\n",
       "      <th>SPEC_RECEIVED_NB</th>\n",
       "      <th>SPEC_PROCESSED_NB</th>\n",
       "      <th>AH1</th>\n",
       "      <th>AH1N12009</th>\n",
       "      <th>AH3</th>\n",
       "      <th>AH5</th>\n",
       "      <th>ANOTSUBTYPED</th>\n",
       "      <th>INF_A</th>\n",
       "      <th>BYAMAGATA</th>\n",
       "      <th>BVICTORIA</th>\n",
       "      <th>BNOTDETERMINED</th>\n",
       "      <th>INF_B</th>\n",
       "      <th>ALL_INF</th>\n",
       "      <th>ALL_INF2</th>\n",
       "      <th>TITLE</th>\n",
       "    </tr>\n",
       "    <tr>\n",
       "      <th>Country</th>\n",
       "      <th>Year</th>\n",
       "      <th>Week</th>\n",
       "      <th></th>\n",
       "      <th></th>\n",
       "      <th></th>\n",
       "      <th></th>\n",
       "      <th></th>\n",
       "      <th></th>\n",
       "      <th></th>\n",
       "      <th></th>\n",
       "      <th></th>\n",
       "      <th></th>\n",
       "      <th></th>\n",
       "      <th></th>\n",
       "      <th></th>\n",
       "      <th></th>\n",
       "      <th></th>\n",
       "      <th></th>\n",
       "      <th></th>\n",
       "      <th></th>\n",
       "      <th></th>\n",
       "    </tr>\n",
       "  </thead>\n",
       "  <tbody>\n",
       "    <tr>\n",
       "      <th rowspan=\"5\" valign=\"top\">United States of America</th>\n",
       "      <th rowspan=\"5\" valign=\"top\">1997</th>\n",
       "      <th>1</th>\n",
       "      <td>Region of the Americas of WHO</td>\n",
       "      <td>North America</td>\n",
       "      <td>1996-12-30</td>\n",
       "      <td>1997-01-05</td>\n",
       "      <td>NaN</td>\n",
       "      <td>2744.0</td>\n",
       "      <td>0.0</td>\n",
       "      <td>NaN</td>\n",
       "      <td>247.0</td>\n",
       "      <td>NaN</td>\n",
       "      <td>544.0</td>\n",
       "      <td>791</td>\n",
       "      <td>NaN</td>\n",
       "      <td>NaN</td>\n",
       "      <td>40</td>\n",
       "      <td>40</td>\n",
       "      <td>831</td>\n",
       "      <td>NaN</td>\n",
       "      <td>No Report</td>\n",
       "    </tr>\n",
       "    <tr>\n",
       "      <th>2</th>\n",
       "      <td>Region of the Americas of WHO</td>\n",
       "      <td>North America</td>\n",
       "      <td>1997-01-06</td>\n",
       "      <td>1997-01-12</td>\n",
       "      <td>NaN</td>\n",
       "      <td>1921.0</td>\n",
       "      <td>0.0</td>\n",
       "      <td>NaN</td>\n",
       "      <td>215.0</td>\n",
       "      <td>NaN</td>\n",
       "      <td>224.0</td>\n",
       "      <td>439</td>\n",
       "      <td>NaN</td>\n",
       "      <td>NaN</td>\n",
       "      <td>18</td>\n",
       "      <td>18</td>\n",
       "      <td>457</td>\n",
       "      <td>NaN</td>\n",
       "      <td>No Report</td>\n",
       "    </tr>\n",
       "    <tr>\n",
       "      <th>3</th>\n",
       "      <td>Region of the Americas of WHO</td>\n",
       "      <td>North America</td>\n",
       "      <td>1997-01-13</td>\n",
       "      <td>1997-01-19</td>\n",
       "      <td>NaN</td>\n",
       "      <td>1519.0</td>\n",
       "      <td>0.0</td>\n",
       "      <td>NaN</td>\n",
       "      <td>193.0</td>\n",
       "      <td>NaN</td>\n",
       "      <td>101.0</td>\n",
       "      <td>294</td>\n",
       "      <td>NaN</td>\n",
       "      <td>NaN</td>\n",
       "      <td>34</td>\n",
       "      <td>34</td>\n",
       "      <td>328</td>\n",
       "      <td>NaN</td>\n",
       "      <td>No Report</td>\n",
       "    </tr>\n",
       "    <tr>\n",
       "      <th>4</th>\n",
       "      <td>Region of the Americas of WHO</td>\n",
       "      <td>North America</td>\n",
       "      <td>1997-01-20</td>\n",
       "      <td>1997-01-26</td>\n",
       "      <td>NaN</td>\n",
       "      <td>1284.0</td>\n",
       "      <td>0.0</td>\n",
       "      <td>NaN</td>\n",
       "      <td>118.0</td>\n",
       "      <td>NaN</td>\n",
       "      <td>60.0</td>\n",
       "      <td>178</td>\n",
       "      <td>NaN</td>\n",
       "      <td>NaN</td>\n",
       "      <td>44</td>\n",
       "      <td>44</td>\n",
       "      <td>222</td>\n",
       "      <td>NaN</td>\n",
       "      <td>No Report</td>\n",
       "    </tr>\n",
       "    <tr>\n",
       "      <th>5</th>\n",
       "      <td>Region of the Americas of WHO</td>\n",
       "      <td>North America</td>\n",
       "      <td>1997-01-27</td>\n",
       "      <td>1997-02-02</td>\n",
       "      <td>NaN</td>\n",
       "      <td>1347.0</td>\n",
       "      <td>0.0</td>\n",
       "      <td>NaN</td>\n",
       "      <td>77.0</td>\n",
       "      <td>NaN</td>\n",
       "      <td>59.0</td>\n",
       "      <td>136</td>\n",
       "      <td>NaN</td>\n",
       "      <td>NaN</td>\n",
       "      <td>82</td>\n",
       "      <td>82</td>\n",
       "      <td>218</td>\n",
       "      <td>NaN</td>\n",
       "      <td>No Report</td>\n",
       "    </tr>\n",
       "  </tbody>\n",
       "</table>\n",
       "</div>"
      ],
      "text/plain": [
       "                                                        WHOREGION  \\\n",
       "Country                  Year Week                                  \n",
       "United States of America 1997 1     Region of the Americas of WHO   \n",
       "                              2     Region of the Americas of WHO   \n",
       "                              3     Region of the Americas of WHO   \n",
       "                              4     Region of the Americas of WHO   \n",
       "                              5     Region of the Americas of WHO   \n",
       "\n",
       "                                        FLUREGION       SDATE       EDATE  \\\n",
       "Country                  Year Week                                          \n",
       "United States of America 1997 1     North America  1996-12-30  1997-01-05   \n",
       "                              2     North America  1997-01-06  1997-01-12   \n",
       "                              3     North America  1997-01-13  1997-01-19   \n",
       "                              4     North America  1997-01-20  1997-01-26   \n",
       "                              5     North America  1997-01-27  1997-02-02   \n",
       "\n",
       "                                    SPEC_RECEIVED_NB  SPEC_PROCESSED_NB  AH1  \\\n",
       "Country                  Year Week                                             \n",
       "United States of America 1997 1                  NaN             2744.0  0.0   \n",
       "                              2                  NaN             1921.0  0.0   \n",
       "                              3                  NaN             1519.0  0.0   \n",
       "                              4                  NaN             1284.0  0.0   \n",
       "                              5                  NaN             1347.0  0.0   \n",
       "\n",
       "                                    AH1N12009    AH3  AH5  ANOTSUBTYPED  \\\n",
       "Country                  Year Week                                        \n",
       "United States of America 1997 1           NaN  247.0  NaN         544.0   \n",
       "                              2           NaN  215.0  NaN         224.0   \n",
       "                              3           NaN  193.0  NaN         101.0   \n",
       "                              4           NaN  118.0  NaN          60.0   \n",
       "                              5           NaN   77.0  NaN          59.0   \n",
       "\n",
       "                                    INF_A  BYAMAGATA  BVICTORIA  \\\n",
       "Country                  Year Week                                \n",
       "United States of America 1997 1       791        NaN        NaN   \n",
       "                              2       439        NaN        NaN   \n",
       "                              3       294        NaN        NaN   \n",
       "                              4       178        NaN        NaN   \n",
       "                              5       136        NaN        NaN   \n",
       "\n",
       "                                    BNOTDETERMINED  INF_B  ALL_INF  ALL_INF2  \\\n",
       "Country                  Year Week                                             \n",
       "United States of America 1997 1                 40     40      831       NaN   \n",
       "                              2                 18     18      457       NaN   \n",
       "                              3                 34     34      328       NaN   \n",
       "                              4                 44     44      222       NaN   \n",
       "                              5                 82     82      218       NaN   \n",
       "\n",
       "                                        TITLE  \n",
       "Country                  Year Week             \n",
       "United States of America 1997 1     No Report  \n",
       "                              2     No Report  \n",
       "                              3     No Report  \n",
       "                              4     No Report  \n",
       "                              5     No Report  "
      ]
     },
     "execution_count": 12,
     "metadata": {},
     "output_type": "execute_result"
    }
   ],
   "source": [
    "flu.head()"
   ]
  },
  {
   "cell_type": "markdown",
   "metadata": {},
   "source": [
    "Make a simple line chart"
   ]
  },
  {
   "cell_type": "code",
   "execution_count": 28,
   "metadata": {},
   "outputs": [
    {
     "data": {
      "application/vnd.jupyter.widget-view+json": {
       "model_id": "7a2e6ecdcb2b4412903a3959026fcc8b",
       "version_major": 2,
       "version_minor": 0
      },
      "text/plain": [
       "Figure(axes=[Axis(scale=LinearScale()), Axis(orientation='vertical', scale=LinearScale(), tick_format='0.2f')]…"
      ]
     },
     "metadata": {},
     "output_type": "display_data"
    }
   ],
   "source": [
    "x_sc = bqplot.LinearScale()\n",
    "y_sc = bqplot.LinearScale()\n",
    "\n",
    "x_data = range(len(flu))\n",
    "# TODO: Use the real index values: x_data = flu.index.values\n",
    "y_data = flu.SPEC_RECEIVED_NB\n",
    "\n",
    "line_chart = bqplot.Lines(x=x_data, y=y_data, scales={'x': x_sc, 'y': y_sc})\n",
    "\n",
    "ax_x = bqplot.Axis(scale=x_sc)\n",
    "ax_y = bqplot.Axis(scale=y_sc, orientation='vertical', tick_format='0.2f')\n",
    "axes=[ax_x, ax_y]\n",
    "\n",
    "bqplot.Figure(marks=[line_chart], axes=[ax_x, ax_y])"
   ]
  },
  {
   "cell_type": "markdown",
   "metadata": {},
   "source": [
    "Add brushing to just get the x value"
   ]
  },
  {
   "cell_type": "code",
   "execution_count": 91,
   "metadata": {},
   "outputs": [
    {
     "data": {
      "application/vnd.jupyter.widget-view+json": {
       "model_id": "a3a94771ff4641c491cfe8ff6dbafc8e",
       "version_major": 2,
       "version_minor": 0
      },
      "text/plain": [
       "VBox(children=(Figure(axes=[Axis(scale=LinearScale(), side='bottom'), Axis(orientation='vertical', scale=Linea…"
      ]
     },
     "metadata": {},
     "output_type": "display_data"
    }
   ],
   "source": [
    "pre_table = ipywidgets.HTML(value='hover over the chart...')\n",
    "\n",
    "index_sel = bqplot.interacts.IndexSelector(scale=x_sc, marks=[line_chart])\n",
    "\n",
    "def index_change_callback(change):\n",
    "    pre_table.value = '<pre>{}</pre>'.format(flu.iloc[int(change.new)][\n",
    "        ['AH1','AH1N12009','AH3', 'AH5', 'ANOTSUBTYPED', 'BYAMAGATA', 'BVICTORIA', 'BNOTDETERMINED']\n",
    "    ])\n",
    "    \n",
    "index_sel.observe(index_change_callback, names=['selected'])\n",
    "\n",
    "fig_index_sel = bqplot.Figure(marks=[line_chart], axes=[ax_x, ax_y], interaction=index_sel)\n",
    "ipywidgets.VBox([fig_index_sel, pre_table])"
   ]
  },
  {
   "cell_type": "markdown",
   "metadata": {},
   "source": [
    "But that's boring; Instead, let's make a second chart that responds to interactions with the first chart:"
   ]
  },
  {
   "cell_type": "markdown",
   "metadata": {},
   "source": [
    "Could we present that table as a bar chart instead?"
   ]
  },
  {
   "cell_type": "code",
   "execution_count": 95,
   "metadata": {},
   "outputs": [
    {
     "data": {
      "application/vnd.jupyter.widget-view+json": {
       "model_id": "f15d430fcf7f4846b082458cbced46f9",
       "version_major": 2,
       "version_minor": 0
      },
      "text/plain": [
       "Figure(axes=[Axis(scale=OrdinalScale()), Axis(orientation='vertical', scale=LinearScale())], fig_margin={'top'…"
      ]
     },
     "metadata": {},
     "output_type": "display_data"
    }
   ],
   "source": [
    "def bar_chart(x):\n",
    "    s = flu.iloc[int(x)][['AH1','AH1N12009','AH3', 'AH5', 'ANOTSUBTYPED', 'BYAMAGATA', 'BVICTORIA', 'BNOTDETERMINED']]\n",
    "\n",
    "    x_bar_sc = bqplot.OrdinalScale()\n",
    "    y_bar_sc = bqplot.LinearScale()\n",
    "    bar_chart = bqplot.Bars(x=s.index.tolist(), y=s.values.tolist(), scales={'x': x_bar_sc, 'y': y_bar_sc})\n",
    "\n",
    "    ax_bar_x = bqplot.Axis(scale=x_bar_sc)\n",
    "    ax_bar_y = bqplot.Axis(scale=y_bar_sc, orientation='vertical')\n",
    "\n",
    "    return bqplot.Figure(marks=[bar_chart], axes=[ax_bar_x, ax_bar_y])\n",
    "\n",
    "bc = bar_chart(123.4)\n",
    "bc"
   ]
  },
  {
   "cell_type": "code",
   "execution_count": 101,
   "metadata": {},
   "outputs": [
    {
     "data": {
      "text/plain": [
       "array([ 98.,  nan,   4.,  nan, 176.,  nan,  nan, 435.])"
      ]
     },
     "execution_count": 101,
     "metadata": {},
     "output_type": "execute_result"
    }
   ],
   "source": [
    "bc.marks[0].y"
   ]
  },
  {
   "cell_type": "markdown",
   "metadata": {},
   "source": [
    "Note that we can redefine the values in a chart:"
   ]
  },
  {
   "cell_type": "code",
   "execution_count": 102,
   "metadata": {},
   "outputs": [],
   "source": [
    "bc.marks[0].y = [1,2,3,4,5,6,7,8]"
   ]
  },
  {
   "cell_type": "code",
   "execution_count": 103,
   "metadata": {},
   "outputs": [
    {
     "data": {
      "application/vnd.jupyter.widget-view+json": {
       "model_id": "4116d00cd13649898d193a642c71aa80",
       "version_major": 2,
       "version_minor": 0
      },
      "text/plain": [
       "VBox(children=(Figure(axes=[Axis(scale=LinearScale(), side='bottom'), Axis(orientation='vertical', scale=Linea…"
      ]
     },
     "metadata": {},
     "output_type": "display_data"
    }
   ],
   "source": [
    "bc = bar_chart(0)\n",
    "\n",
    "index_sel = bqplot.interacts.IndexSelector(scale=x_sc, marks=[line_chart])\n",
    "\n",
    "def index_change_callback(change):\n",
    "    bc.marks[0].y = flu.iloc[int(change.new)][\n",
    "        ['AH1','AH1N12009','AH3', 'AH5', 'ANOTSUBTYPED', 'BYAMAGATA', 'BVICTORIA', 'BNOTDETERMINED']\n",
    "    ].values.tolist()\n",
    "    \n",
    "index_sel.observe(index_change_callback, names=['selected'])\n",
    "\n",
    "fig_index_sel = bqplot.Figure(marks=[line_chart], axes=[ax_x, ax_y], interaction=index_sel)\n",
    "ipywidgets.VBox([fig_index_sel, bc])"
   ]
  }
 ],
 "metadata": {
  "kernelspec": {
   "display_name": "Python 3",
   "language": "python",
   "name": "python3"
  },
  "language_info": {
   "codemirror_mode": {
    "name": "ipython",
    "version": 3
   },
   "file_extension": ".py",
   "mimetype": "text/x-python",
   "name": "python",
   "nbconvert_exporter": "python",
   "pygments_lexer": "ipython3",
   "version": "3.6.6"
  }
 },
 "nbformat": 4,
 "nbformat_minor": 2
}
